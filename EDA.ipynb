{
 "cells": [
  {
   "cell_type": "markdown",
   "metadata": {},
   "source": [
    "# DSCI 521: Data Analysis and Interpretation <br> Term Project Phase 1: Walmart Sales Forecasting- EDA\n",
    "\n",
    "\n",
    "### Team Members\n",
    "- Group member 1\n",
    "    - Name: Padma Priya Jayaraj\n",
    "    - Email: pj349@drexel.edu\n",
    "- Group member 2\n",
    "    - Name: Soumya Sinha\n",
    "    - Email: ss4947@drexel.edu\n",
    "- Group member 3\n",
    "    - Name: Himani Hasani\n",
    "    - Email: hh579@drexel.edu\n",
    "- Group member 4\n",
    "    - Name: Nishant Anand\n",
    "    - Email: na826@drexel.edu"
   ]
  },
  {
   "cell_type": "markdown",
   "metadata": {},
   "source": [
    "## Data\n",
    "The dataset is a historical dataset provided by Walmart for a competition on [Kaggle](https://www.kaggle.com/c/walmart-recruiting-store-sales-forecasting/data) .The timeseries data ranges from Feb,2010 to November 2012. The analysis would be on a weekly basis as the dataset provides sales information for every week in the mentioned timeframe.\n",
    "Following information is provided in the dataset.\n",
    "\n",
    "- **Store**:The store number\n",
    "- **Dept**:The department number\n",
    "- **Date**:The week of the year\n",
    "- **Weekly_Sales**:Sales for the given department in the given store\n",
    "- **IsHoliday**:Whether the week is a special holiday week\n",
    "- **Temperature**:Average temperature in the region\n",
    "- **Fuel_Price**:Cost of fuel in the region\n",
    "- **MarkDown1-5**:Anonymized data related to promotional markdowns that Walmart is running. MarkDown data is only available after Nov 2011, and is not available for all stores all the time. Any missing value is marked with an NA.\n",
    "- **CPI**:The consumer price index\n",
    "- **Unemployment**:The unemployment rate\n",
    "- **IsHoliday**:Whether the week is a special holiday week\n",
    "- **Type**:Type of the store\n",
    "- **Size**:Size of the store"
   ]
  },
  {
   "cell_type": "markdown",
   "metadata": {},
   "source": [
    "## Exploratory Data Analysis"
   ]
  },
  {
   "cell_type": "markdown",
   "metadata": {},
   "source": [
    "Importing required files"
   ]
  },
  {
   "cell_type": "code",
   "execution_count": 2,
   "metadata": {},
   "outputs": [],
   "source": [
    "import numpy as np \n",
    "import pandas as pd\n",
    "import statistics\n",
    "import scipy\n",
    "import matplotlib\n",
    "import matplotlib.pyplot as plt\n",
    "import seaborn as sns\n",
    "import sklearn.preprocessing as skl"
   ]
  },
  {
   "cell_type": "markdown",
   "metadata": {},
   "source": [
    "Loading feature.csv"
   ]
  },
  {
   "cell_type": "code",
   "execution_count": 4,
   "metadata": {},
   "outputs": [
    {
     "data": {
      "text/html": [
       "<div>\n",
       "<style scoped>\n",
       "    .dataframe tbody tr th:only-of-type {\n",
       "        vertical-align: middle;\n",
       "    }\n",
       "\n",
       "    .dataframe tbody tr th {\n",
       "        vertical-align: top;\n",
       "    }\n",
       "\n",
       "    .dataframe thead th {\n",
       "        text-align: right;\n",
       "    }\n",
       "</style>\n",
       "<table border=\"1\" class=\"dataframe\">\n",
       "  <thead>\n",
       "    <tr style=\"text-align: right;\">\n",
       "      <th></th>\n",
       "      <th>Store</th>\n",
       "      <th>Date</th>\n",
       "      <th>Temperature</th>\n",
       "      <th>Fuel_Price</th>\n",
       "      <th>MarkDown1</th>\n",
       "      <th>MarkDown2</th>\n",
       "      <th>MarkDown3</th>\n",
       "      <th>MarkDown4</th>\n",
       "      <th>MarkDown5</th>\n",
       "      <th>CPI</th>\n",
       "      <th>Unemployment</th>\n",
       "      <th>IsHoliday</th>\n",
       "    </tr>\n",
       "  </thead>\n",
       "  <tbody>\n",
       "    <tr>\n",
       "      <th>0</th>\n",
       "      <td>1</td>\n",
       "      <td>2010-02-05</td>\n",
       "      <td>42.31</td>\n",
       "      <td>2.572</td>\n",
       "      <td>NaN</td>\n",
       "      <td>NaN</td>\n",
       "      <td>NaN</td>\n",
       "      <td>NaN</td>\n",
       "      <td>NaN</td>\n",
       "      <td>211.096358</td>\n",
       "      <td>8.106</td>\n",
       "      <td>False</td>\n",
       "    </tr>\n",
       "    <tr>\n",
       "      <th>1</th>\n",
       "      <td>1</td>\n",
       "      <td>2010-02-12</td>\n",
       "      <td>38.51</td>\n",
       "      <td>2.548</td>\n",
       "      <td>NaN</td>\n",
       "      <td>NaN</td>\n",
       "      <td>NaN</td>\n",
       "      <td>NaN</td>\n",
       "      <td>NaN</td>\n",
       "      <td>211.242170</td>\n",
       "      <td>8.106</td>\n",
       "      <td>True</td>\n",
       "    </tr>\n",
       "    <tr>\n",
       "      <th>2</th>\n",
       "      <td>1</td>\n",
       "      <td>2010-02-19</td>\n",
       "      <td>39.93</td>\n",
       "      <td>2.514</td>\n",
       "      <td>NaN</td>\n",
       "      <td>NaN</td>\n",
       "      <td>NaN</td>\n",
       "      <td>NaN</td>\n",
       "      <td>NaN</td>\n",
       "      <td>211.289143</td>\n",
       "      <td>8.106</td>\n",
       "      <td>False</td>\n",
       "    </tr>\n",
       "    <tr>\n",
       "      <th>3</th>\n",
       "      <td>1</td>\n",
       "      <td>2010-02-26</td>\n",
       "      <td>46.63</td>\n",
       "      <td>2.561</td>\n",
       "      <td>NaN</td>\n",
       "      <td>NaN</td>\n",
       "      <td>NaN</td>\n",
       "      <td>NaN</td>\n",
       "      <td>NaN</td>\n",
       "      <td>211.319643</td>\n",
       "      <td>8.106</td>\n",
       "      <td>False</td>\n",
       "    </tr>\n",
       "    <tr>\n",
       "      <th>4</th>\n",
       "      <td>1</td>\n",
       "      <td>2010-03-05</td>\n",
       "      <td>46.50</td>\n",
       "      <td>2.625</td>\n",
       "      <td>NaN</td>\n",
       "      <td>NaN</td>\n",
       "      <td>NaN</td>\n",
       "      <td>NaN</td>\n",
       "      <td>NaN</td>\n",
       "      <td>211.350143</td>\n",
       "      <td>8.106</td>\n",
       "      <td>False</td>\n",
       "    </tr>\n",
       "  </tbody>\n",
       "</table>\n",
       "</div>"
      ],
      "text/plain": [
       "   Store        Date  Temperature  Fuel_Price  MarkDown1  MarkDown2  \\\n",
       "0      1  2010-02-05        42.31       2.572        NaN        NaN   \n",
       "1      1  2010-02-12        38.51       2.548        NaN        NaN   \n",
       "2      1  2010-02-19        39.93       2.514        NaN        NaN   \n",
       "3      1  2010-02-26        46.63       2.561        NaN        NaN   \n",
       "4      1  2010-03-05        46.50       2.625        NaN        NaN   \n",
       "\n",
       "   MarkDown3  MarkDown4  MarkDown5         CPI  Unemployment  IsHoliday  \n",
       "0        NaN        NaN        NaN  211.096358         8.106      False  \n",
       "1        NaN        NaN        NaN  211.242170         8.106       True  \n",
       "2        NaN        NaN        NaN  211.289143         8.106      False  \n",
       "3        NaN        NaN        NaN  211.319643         8.106      False  \n",
       "4        NaN        NaN        NaN  211.350143         8.106      False  "
      ]
     },
     "execution_count": 4,
     "metadata": {},
     "output_type": "execute_result"
    }
   ],
   "source": [
    "new_features = pd.read_csv(\"Walmart_data/features.csv\")\n",
    "new_features.head(5)"
   ]
  },
  {
   "cell_type": "markdown",
   "metadata": {},
   "source": [
    "Loading stores.csv"
   ]
  },
  {
   "cell_type": "code",
   "execution_count": 5,
   "metadata": {},
   "outputs": [
    {
     "data": {
      "text/html": [
       "<div>\n",
       "<style scoped>\n",
       "    .dataframe tbody tr th:only-of-type {\n",
       "        vertical-align: middle;\n",
       "    }\n",
       "\n",
       "    .dataframe tbody tr th {\n",
       "        vertical-align: top;\n",
       "    }\n",
       "\n",
       "    .dataframe thead th {\n",
       "        text-align: right;\n",
       "    }\n",
       "</style>\n",
       "<table border=\"1\" class=\"dataframe\">\n",
       "  <thead>\n",
       "    <tr style=\"text-align: right;\">\n",
       "      <th></th>\n",
       "      <th>Store</th>\n",
       "      <th>Type</th>\n",
       "      <th>Size</th>\n",
       "    </tr>\n",
       "  </thead>\n",
       "  <tbody>\n",
       "    <tr>\n",
       "      <th>0</th>\n",
       "      <td>1</td>\n",
       "      <td>A</td>\n",
       "      <td>151315</td>\n",
       "    </tr>\n",
       "    <tr>\n",
       "      <th>1</th>\n",
       "      <td>2</td>\n",
       "      <td>A</td>\n",
       "      <td>202307</td>\n",
       "    </tr>\n",
       "    <tr>\n",
       "      <th>2</th>\n",
       "      <td>3</td>\n",
       "      <td>B</td>\n",
       "      <td>37392</td>\n",
       "    </tr>\n",
       "    <tr>\n",
       "      <th>3</th>\n",
       "      <td>4</td>\n",
       "      <td>A</td>\n",
       "      <td>205863</td>\n",
       "    </tr>\n",
       "    <tr>\n",
       "      <th>4</th>\n",
       "      <td>5</td>\n",
       "      <td>B</td>\n",
       "      <td>34875</td>\n",
       "    </tr>\n",
       "  </tbody>\n",
       "</table>\n",
       "</div>"
      ],
      "text/plain": [
       "   Store Type    Size\n",
       "0      1    A  151315\n",
       "1      2    A  202307\n",
       "2      3    B   37392\n",
       "3      4    A  205863\n",
       "4      5    B   34875"
      ]
     },
     "execution_count": 5,
     "metadata": {},
     "output_type": "execute_result"
    }
   ],
   "source": [
    "new_stores = pd.read_csv(\"Walmart_data/stores.csv\")\n",
    "new_stores.head(5)"
   ]
  },
  {
   "cell_type": "markdown",
   "metadata": {},
   "source": [
    "Loading train.csv"
   ]
  },
  {
   "cell_type": "code",
   "execution_count": 6,
   "metadata": {},
   "outputs": [
    {
     "data": {
      "text/html": [
       "<div>\n",
       "<style scoped>\n",
       "    .dataframe tbody tr th:only-of-type {\n",
       "        vertical-align: middle;\n",
       "    }\n",
       "\n",
       "    .dataframe tbody tr th {\n",
       "        vertical-align: top;\n",
       "    }\n",
       "\n",
       "    .dataframe thead th {\n",
       "        text-align: right;\n",
       "    }\n",
       "</style>\n",
       "<table border=\"1\" class=\"dataframe\">\n",
       "  <thead>\n",
       "    <tr style=\"text-align: right;\">\n",
       "      <th></th>\n",
       "      <th>Store</th>\n",
       "      <th>Dept</th>\n",
       "      <th>Date</th>\n",
       "      <th>Weekly_Sales</th>\n",
       "    </tr>\n",
       "  </thead>\n",
       "  <tbody>\n",
       "    <tr>\n",
       "      <th>0</th>\n",
       "      <td>1</td>\n",
       "      <td>1</td>\n",
       "      <td>2010-02-05</td>\n",
       "      <td>24924.50</td>\n",
       "    </tr>\n",
       "    <tr>\n",
       "      <th>1</th>\n",
       "      <td>1</td>\n",
       "      <td>1</td>\n",
       "      <td>2010-02-12</td>\n",
       "      <td>46039.49</td>\n",
       "    </tr>\n",
       "    <tr>\n",
       "      <th>2</th>\n",
       "      <td>1</td>\n",
       "      <td>1</td>\n",
       "      <td>2010-02-19</td>\n",
       "      <td>41595.55</td>\n",
       "    </tr>\n",
       "    <tr>\n",
       "      <th>3</th>\n",
       "      <td>1</td>\n",
       "      <td>1</td>\n",
       "      <td>2010-02-26</td>\n",
       "      <td>19403.54</td>\n",
       "    </tr>\n",
       "    <tr>\n",
       "      <th>4</th>\n",
       "      <td>1</td>\n",
       "      <td>1</td>\n",
       "      <td>2010-03-05</td>\n",
       "      <td>21827.90</td>\n",
       "    </tr>\n",
       "  </tbody>\n",
       "</table>\n",
       "</div>"
      ],
      "text/plain": [
       "   Store  Dept        Date  Weekly_Sales\n",
       "0      1     1  2010-02-05      24924.50\n",
       "1      1     1  2010-02-12      46039.49\n",
       "2      1     1  2010-02-19      41595.55\n",
       "3      1     1  2010-02-26      19403.54\n",
       "4      1     1  2010-03-05      21827.90"
      ]
     },
     "execution_count": 6,
     "metadata": {},
     "output_type": "execute_result"
    }
   ],
   "source": [
    "new_train = pd.read_csv(\"Walmart_data/train.csv\")\n",
    "del new_train['IsHoliday']\n",
    "new_train.head(5)"
   ]
  },
  {
   "cell_type": "code",
   "execution_count": 7,
   "metadata": {},
   "outputs": [
    {
     "data": {
      "text/html": [
       "<div>\n",
       "<style scoped>\n",
       "    .dataframe tbody tr th:only-of-type {\n",
       "        vertical-align: middle;\n",
       "    }\n",
       "\n",
       "    .dataframe tbody tr th {\n",
       "        vertical-align: top;\n",
       "    }\n",
       "\n",
       "    .dataframe thead th {\n",
       "        text-align: right;\n",
       "    }\n",
       "</style>\n",
       "<table border=\"1\" class=\"dataframe\">\n",
       "  <thead>\n",
       "    <tr style=\"text-align: right;\">\n",
       "      <th></th>\n",
       "      <th>Store</th>\n",
       "      <th>Dept</th>\n",
       "      <th>Date</th>\n",
       "      <th>Weekly_Sales</th>\n",
       "      <th>Temperature</th>\n",
       "      <th>Fuel_Price</th>\n",
       "      <th>MarkDown1</th>\n",
       "      <th>MarkDown2</th>\n",
       "      <th>MarkDown3</th>\n",
       "      <th>MarkDown4</th>\n",
       "      <th>MarkDown5</th>\n",
       "      <th>CPI</th>\n",
       "      <th>Unemployment</th>\n",
       "      <th>IsHoliday</th>\n",
       "      <th>Type</th>\n",
       "      <th>Size</th>\n",
       "    </tr>\n",
       "  </thead>\n",
       "  <tbody>\n",
       "    <tr>\n",
       "      <th>0</th>\n",
       "      <td>1</td>\n",
       "      <td>1</td>\n",
       "      <td>2010-02-05</td>\n",
       "      <td>24924.50</td>\n",
       "      <td>42.31</td>\n",
       "      <td>2.572</td>\n",
       "      <td>NaN</td>\n",
       "      <td>NaN</td>\n",
       "      <td>NaN</td>\n",
       "      <td>NaN</td>\n",
       "      <td>NaN</td>\n",
       "      <td>211.096358</td>\n",
       "      <td>8.106</td>\n",
       "      <td>False</td>\n",
       "      <td>A</td>\n",
       "      <td>151315</td>\n",
       "    </tr>\n",
       "    <tr>\n",
       "      <th>1</th>\n",
       "      <td>1</td>\n",
       "      <td>1</td>\n",
       "      <td>2010-02-12</td>\n",
       "      <td>46039.49</td>\n",
       "      <td>38.51</td>\n",
       "      <td>2.548</td>\n",
       "      <td>NaN</td>\n",
       "      <td>NaN</td>\n",
       "      <td>NaN</td>\n",
       "      <td>NaN</td>\n",
       "      <td>NaN</td>\n",
       "      <td>211.242170</td>\n",
       "      <td>8.106</td>\n",
       "      <td>True</td>\n",
       "      <td>A</td>\n",
       "      <td>151315</td>\n",
       "    </tr>\n",
       "    <tr>\n",
       "      <th>2</th>\n",
       "      <td>1</td>\n",
       "      <td>1</td>\n",
       "      <td>2010-02-19</td>\n",
       "      <td>41595.55</td>\n",
       "      <td>39.93</td>\n",
       "      <td>2.514</td>\n",
       "      <td>NaN</td>\n",
       "      <td>NaN</td>\n",
       "      <td>NaN</td>\n",
       "      <td>NaN</td>\n",
       "      <td>NaN</td>\n",
       "      <td>211.289143</td>\n",
       "      <td>8.106</td>\n",
       "      <td>False</td>\n",
       "      <td>A</td>\n",
       "      <td>151315</td>\n",
       "    </tr>\n",
       "    <tr>\n",
       "      <th>3</th>\n",
       "      <td>1</td>\n",
       "      <td>1</td>\n",
       "      <td>2010-02-26</td>\n",
       "      <td>19403.54</td>\n",
       "      <td>46.63</td>\n",
       "      <td>2.561</td>\n",
       "      <td>NaN</td>\n",
       "      <td>NaN</td>\n",
       "      <td>NaN</td>\n",
       "      <td>NaN</td>\n",
       "      <td>NaN</td>\n",
       "      <td>211.319643</td>\n",
       "      <td>8.106</td>\n",
       "      <td>False</td>\n",
       "      <td>A</td>\n",
       "      <td>151315</td>\n",
       "    </tr>\n",
       "    <tr>\n",
       "      <th>4</th>\n",
       "      <td>1</td>\n",
       "      <td>1</td>\n",
       "      <td>2010-03-05</td>\n",
       "      <td>21827.90</td>\n",
       "      <td>46.50</td>\n",
       "      <td>2.625</td>\n",
       "      <td>NaN</td>\n",
       "      <td>NaN</td>\n",
       "      <td>NaN</td>\n",
       "      <td>NaN</td>\n",
       "      <td>NaN</td>\n",
       "      <td>211.350143</td>\n",
       "      <td>8.106</td>\n",
       "      <td>False</td>\n",
       "      <td>A</td>\n",
       "      <td>151315</td>\n",
       "    </tr>\n",
       "  </tbody>\n",
       "</table>\n",
       "</div>"
      ],
      "text/plain": [
       "   Store  Dept       Date  Weekly_Sales  Temperature  Fuel_Price  MarkDown1  \\\n",
       "0      1     1 2010-02-05      24924.50        42.31       2.572        NaN   \n",
       "1      1     1 2010-02-12      46039.49        38.51       2.548        NaN   \n",
       "2      1     1 2010-02-19      41595.55        39.93       2.514        NaN   \n",
       "3      1     1 2010-02-26      19403.54        46.63       2.561        NaN   \n",
       "4      1     1 2010-03-05      21827.90        46.50       2.625        NaN   \n",
       "\n",
       "   MarkDown2  MarkDown3  MarkDown4  MarkDown5         CPI  Unemployment  \\\n",
       "0        NaN        NaN        NaN        NaN  211.096358         8.106   \n",
       "1        NaN        NaN        NaN        NaN  211.242170         8.106   \n",
       "2        NaN        NaN        NaN        NaN  211.289143         8.106   \n",
       "3        NaN        NaN        NaN        NaN  211.319643         8.106   \n",
       "4        NaN        NaN        NaN        NaN  211.350143         8.106   \n",
       "\n",
       "   IsHoliday Type    Size  \n",
       "0      False    A  151315  \n",
       "1       True    A  151315  \n",
       "2      False    A  151315  \n",
       "3      False    A  151315  \n",
       "4      False    A  151315  "
      ]
     },
     "execution_count": 7,
     "metadata": {},
     "output_type": "execute_result"
    }
   ],
   "source": [
    "new1_concat = pd.merge(new_train, new_features,  how='left', left_on=['Store','Date'], right_on = ['Store','Date'])\n",
    "new_concat = new1_concat.merge(new_stores, left_on='Store', right_on='Store')\n",
    "new_concat.set_index('Store',inplace=True)\n",
    "new_concat.to_csv(\"data/New_Merged_walmart.csv\")\n",
    "merged_walmart = pd.read_csv(\"data/New_Merged_walmart.csv\", parse_dates=[\"Date\"])\n",
    "merged_walmart.head(5)"
   ]
  },
  {
   "cell_type": "markdown",
   "metadata": {},
   "source": [
    "#### Splitting the Date into Months, Year, Week and Day"
   ]
  },
  {
   "cell_type": "code",
   "execution_count": 8,
   "metadata": {},
   "outputs": [],
   "source": [
    "merged_walmart['Year']=merged_walmart['Date'].dt.year\n",
    "merged_walmart['Month']=merged_walmart['Date'].dt.month\n",
    "merged_walmart['Week']=merged_walmart['Date'].dt.week\n",
    "merged_walmart['Day']=merged_walmart['Date'].dt.day"
   ]
  },
  {
   "cell_type": "markdown",
   "metadata": {},
   "source": [
    "#### Missing Data"
   ]
  },
  {
   "cell_type": "markdown",
   "metadata": {},
   "source": [
    "All the cloumns have no missing data apart from the Markdown columns. All Markdown columns have more than 60% missing data. Each of them have been listed below:\n",
    "- MarkDown1 = 64% missing data\n",
    "- Markdown2 = 70% missing data\n",
    "- Markdown3 = 67% missing data\n",
    "- Markdown4 = 68% missing data\n",
    "- Markdown5 = 64% missing data \n",
    "\n",
    "There is no data available for Markdown columns before November 2011. This is because, before 2011 Walmart was reluctant to share its data but to understand customers better, they agreed to share scan data with external research firms to analyze customer behavior. \n",
    "[source](https://retailwire.com/discussion/walmart-to-share-scan-data/#:~:text=Walmart%20says%20it%20wants%20to%20better%20understand%20its%20customers.&text=Since%20Walmart%20first%20made%20the,to%20fully%20understanding%20the%20market)\n"
   ]
  },
  {
   "cell_type": "code",
   "execution_count": 9,
   "metadata": {},
   "outputs": [
    {
     "data": {
      "text/plain": [
       "<matplotlib.axes._subplots.AxesSubplot at 0x1a1c007f10>"
      ]
     },
     "execution_count": 9,
     "metadata": {},
     "output_type": "execute_result"
    },
    {
     "data": {
      "image/png": "[encoded data removed]",
      "text/plain": [
       "<Figure size 1728x720 with 3 Axes>"
      ]
     },
     "metadata": {
      "needs_background": "light"
     },
     "output_type": "display_data"
    }
   ],
   "source": [
    "import missingno as msno \n",
    "msno.bar(merged_walmart)"
   ]
  },
  {
   "cell_type": "markdown",
   "metadata": {},
   "source": [
    "#### Exploring the Data Types of all the variables"
   ]
  },
  {
   "cell_type": "code",
   "execution_count": 10,
   "metadata": {},
   "outputs": [
    {
     "data": {
      "text/html": [
       "<div>\n",
       "<style scoped>\n",
       "    .dataframe tbody tr th:only-of-type {\n",
       "        vertical-align: middle;\n",
       "    }\n",
       "\n",
       "    .dataframe tbody tr th {\n",
       "        vertical-align: top;\n",
       "    }\n",
       "\n",
       "    .dataframe thead th {\n",
       "        text-align: right;\n",
       "    }\n",
       "</style>\n",
       "<table border=\"1\" class=\"dataframe\">\n",
       "  <thead>\n",
       "    <tr style=\"text-align: right;\">\n",
       "      <th></th>\n",
       "      <th>Type</th>\n",
       "    </tr>\n",
       "  </thead>\n",
       "  <tbody>\n",
       "    <tr>\n",
       "      <th>Store</th>\n",
       "      <td>int64</td>\n",
       "    </tr>\n",
       "    <tr>\n",
       "      <th>Dept</th>\n",
       "      <td>int64</td>\n",
       "    </tr>\n",
       "    <tr>\n",
       "      <th>Date</th>\n",
       "      <td>datetime64[ns]</td>\n",
       "    </tr>\n",
       "    <tr>\n",
       "      <th>Weekly_Sales</th>\n",
       "      <td>float64</td>\n",
       "    </tr>\n",
       "    <tr>\n",
       "      <th>Temperature</th>\n",
       "      <td>float64</td>\n",
       "    </tr>\n",
       "    <tr>\n",
       "      <th>Fuel_Price</th>\n",
       "      <td>float64</td>\n",
       "    </tr>\n",
       "    <tr>\n",
       "      <th>MarkDown1</th>\n",
       "      <td>float64</td>\n",
       "    </tr>\n",
       "    <tr>\n",
       "      <th>MarkDown2</th>\n",
       "      <td>float64</td>\n",
       "    </tr>\n",
       "    <tr>\n",
       "      <th>MarkDown3</th>\n",
       "      <td>float64</td>\n",
       "    </tr>\n",
       "    <tr>\n",
       "      <th>MarkDown4</th>\n",
       "      <td>float64</td>\n",
       "    </tr>\n",
       "    <tr>\n",
       "      <th>MarkDown5</th>\n",
       "      <td>float64</td>\n",
       "    </tr>\n",
       "    <tr>\n",
       "      <th>CPI</th>\n",
       "      <td>float64</td>\n",
       "    </tr>\n",
       "    <tr>\n",
       "      <th>Unemployment</th>\n",
       "      <td>float64</td>\n",
       "    </tr>\n",
       "    <tr>\n",
       "      <th>IsHoliday</th>\n",
       "      <td>bool</td>\n",
       "    </tr>\n",
       "    <tr>\n",
       "      <th>Type</th>\n",
       "      <td>object</td>\n",
       "    </tr>\n",
       "    <tr>\n",
       "      <th>Size</th>\n",
       "      <td>int64</td>\n",
       "    </tr>\n",
       "    <tr>\n",
       "      <th>Year</th>\n",
       "      <td>int64</td>\n",
       "    </tr>\n",
       "    <tr>\n",
       "      <th>Month</th>\n",
       "      <td>int64</td>\n",
       "    </tr>\n",
       "    <tr>\n",
       "      <th>Week</th>\n",
       "      <td>int64</td>\n",
       "    </tr>\n",
       "    <tr>\n",
       "      <th>Day</th>\n",
       "      <td>int64</td>\n",
       "    </tr>\n",
       "  </tbody>\n",
       "</table>\n",
       "</div>"
      ],
      "text/plain": [
       "                        Type\n",
       "Store                  int64\n",
       "Dept                   int64\n",
       "Date          datetime64[ns]\n",
       "Weekly_Sales         float64\n",
       "Temperature          float64\n",
       "Fuel_Price           float64\n",
       "MarkDown1            float64\n",
       "MarkDown2            float64\n",
       "MarkDown3            float64\n",
       "MarkDown4            float64\n",
       "MarkDown5            float64\n",
       "CPI                  float64\n",
       "Unemployment         float64\n",
       "IsHoliday               bool\n",
       "Type                  object\n",
       "Size                   int64\n",
       "Year                   int64\n",
       "Month                  int64\n",
       "Week                   int64\n",
       "Day                    int64"
      ]
     },
     "execution_count": 10,
     "metadata": {},
     "output_type": "execute_result"
    }
   ],
   "source": [
    "pd.DataFrame(merged_walmart.dtypes, columns=['Type'])"
   ]
  },
  {
   "cell_type": "markdown",
   "metadata": {},
   "source": [
    "The dataset represents sales data from 45 stores and 99 departments in them. Average weekly sales across all stores is 15981. The average temperature varies from store to store varying from -2 Fahrenheit to 100 Fahrenheit. This shows that the stores chosen belong to different regions in the United States as states in North have lower temperatures as compared to temperature in states in the South-West. The variation of fuel price shows that the fuel prices have gone high over the years due to changing economic conditions. But the variation in fuel price is not too high. The Markdown columns have the most amount of missing data. The CPI has changed from a minimum of 126 to a maximum of 227 in the given dataset. This explains that there has been constant growth in the price of consumer goods. The unemployment rate is provided for different stores. The average unemployment is high in the selected stores with a maximum of 14 in some store. The size of stores varies largely. This is can be seen by the the large value of standard deviation in the size column. The size of the store depends on where it is located. Thus a larger store might be seen in an area with higher population but areas with low population might not require it."
   ]
  },
  {
   "cell_type": "code",
   "execution_count": 11,
   "metadata": {},
   "outputs": [
    {
     "data": {
      "text/html": [
       "<div>\n",
       "<style scoped>\n",
       "    .dataframe tbody tr th:only-of-type {\n",
       "        vertical-align: middle;\n",
       "    }\n",
       "\n",
       "    .dataframe tbody tr th {\n",
       "        vertical-align: top;\n",
       "    }\n",
       "\n",
       "    .dataframe thead th {\n",
       "        text-align: right;\n",
       "    }\n",
       "</style>\n",
       "<table border=\"1\" class=\"dataframe\">\n",
       "  <thead>\n",
       "    <tr style=\"text-align: right;\">\n",
       "      <th></th>\n",
       "      <th>Store</th>\n",
       "      <th>Dept</th>\n",
       "      <th>Weekly_Sales</th>\n",
       "      <th>Temperature</th>\n",
       "      <th>Fuel_Price</th>\n",
       "      <th>MarkDown1</th>\n",
       "      <th>MarkDown2</th>\n",
       "      <th>MarkDown3</th>\n",
       "      <th>MarkDown4</th>\n",
       "      <th>MarkDown5</th>\n",
       "      <th>CPI</th>\n",
       "      <th>Unemployment</th>\n",
       "      <th>Size</th>\n",
       "      <th>Year</th>\n",
       "      <th>Month</th>\n",
       "      <th>Week</th>\n",
       "      <th>Day</th>\n",
       "    </tr>\n",
       "  </thead>\n",
       "  <tbody>\n",
       "    <tr>\n",
       "      <th>count</th>\n",
       "      <td>421570.000000</td>\n",
       "      <td>421570.000000</td>\n",
       "      <td>421570.000000</td>\n",
       "      <td>421570.000000</td>\n",
       "      <td>421570.000000</td>\n",
       "      <td>150681.000000</td>\n",
       "      <td>111248.000000</td>\n",
       "      <td>137091.000000</td>\n",
       "      <td>134967.000000</td>\n",
       "      <td>151432.000000</td>\n",
       "      <td>421570.000000</td>\n",
       "      <td>421570.000000</td>\n",
       "      <td>421570.000000</td>\n",
       "      <td>421570.000000</td>\n",
       "      <td>421570.000000</td>\n",
       "      <td>421570.000000</td>\n",
       "      <td>421570.000000</td>\n",
       "    </tr>\n",
       "    <tr>\n",
       "      <th>mean</th>\n",
       "      <td>22.200546</td>\n",
       "      <td>44.260317</td>\n",
       "      <td>15981.258123</td>\n",
       "      <td>60.090059</td>\n",
       "      <td>3.361027</td>\n",
       "      <td>7246.420196</td>\n",
       "      <td>3334.628621</td>\n",
       "      <td>1439.421384</td>\n",
       "      <td>3383.168256</td>\n",
       "      <td>4628.975079</td>\n",
       "      <td>171.201947</td>\n",
       "      <td>7.960289</td>\n",
       "      <td>136727.915739</td>\n",
       "      <td>2010.968591</td>\n",
       "      <td>6.449510</td>\n",
       "      <td>25.826762</td>\n",
       "      <td>15.673131</td>\n",
       "    </tr>\n",
       "    <tr>\n",
       "      <th>std</th>\n",
       "      <td>12.785297</td>\n",
       "      <td>30.492054</td>\n",
       "      <td>22711.183519</td>\n",
       "      <td>18.447931</td>\n",
       "      <td>0.458515</td>\n",
       "      <td>8291.221345</td>\n",
       "      <td>9475.357325</td>\n",
       "      <td>9623.078290</td>\n",
       "      <td>6292.384031</td>\n",
       "      <td>5962.887455</td>\n",
       "      <td>39.159276</td>\n",
       "      <td>1.863296</td>\n",
       "      <td>60980.583328</td>\n",
       "      <td>0.796876</td>\n",
       "      <td>3.243217</td>\n",
       "      <td>14.151887</td>\n",
       "      <td>8.753549</td>\n",
       "    </tr>\n",
       "    <tr>\n",
       "      <th>min</th>\n",
       "      <td>1.000000</td>\n",
       "      <td>1.000000</td>\n",
       "      <td>-4988.940000</td>\n",
       "      <td>-2.060000</td>\n",
       "      <td>2.472000</td>\n",
       "      <td>0.270000</td>\n",
       "      <td>-265.760000</td>\n",
       "      <td>-29.100000</td>\n",
       "      <td>0.220000</td>\n",
       "      <td>135.160000</td>\n",
       "      <td>126.064000</td>\n",
       "      <td>3.879000</td>\n",
       "      <td>34875.000000</td>\n",
       "      <td>2010.000000</td>\n",
       "      <td>1.000000</td>\n",
       "      <td>1.000000</td>\n",
       "      <td>1.000000</td>\n",
       "    </tr>\n",
       "    <tr>\n",
       "      <th>25%</th>\n",
       "      <td>11.000000</td>\n",
       "      <td>18.000000</td>\n",
       "      <td>2079.650000</td>\n",
       "      <td>46.680000</td>\n",
       "      <td>2.933000</td>\n",
       "      <td>2240.270000</td>\n",
       "      <td>41.600000</td>\n",
       "      <td>5.080000</td>\n",
       "      <td>504.220000</td>\n",
       "      <td>1878.440000</td>\n",
       "      <td>132.022667</td>\n",
       "      <td>6.891000</td>\n",
       "      <td>93638.000000</td>\n",
       "      <td>2010.000000</td>\n",
       "      <td>4.000000</td>\n",
       "      <td>14.000000</td>\n",
       "      <td>8.000000</td>\n",
       "    </tr>\n",
       "    <tr>\n",
       "      <th>50%</th>\n",
       "      <td>22.000000</td>\n",
       "      <td>37.000000</td>\n",
       "      <td>7612.030000</td>\n",
       "      <td>62.090000</td>\n",
       "      <td>3.452000</td>\n",
       "      <td>5347.450000</td>\n",
       "      <td>192.000000</td>\n",
       "      <td>24.600000</td>\n",
       "      <td>1481.310000</td>\n",
       "      <td>3359.450000</td>\n",
       "      <td>182.318780</td>\n",
       "      <td>7.866000</td>\n",
       "      <td>140167.000000</td>\n",
       "      <td>2011.000000</td>\n",
       "      <td>6.000000</td>\n",
       "      <td>26.000000</td>\n",
       "      <td>16.000000</td>\n",
       "    </tr>\n",
       "    <tr>\n",
       "      <th>75%</th>\n",
       "      <td>33.000000</td>\n",
       "      <td>74.000000</td>\n",
       "      <td>20205.852500</td>\n",
       "      <td>74.280000</td>\n",
       "      <td>3.738000</td>\n",
       "      <td>9210.900000</td>\n",
       "      <td>1926.940000</td>\n",
       "      <td>103.990000</td>\n",
       "      <td>3595.040000</td>\n",
       "      <td>5563.800000</td>\n",
       "      <td>212.416993</td>\n",
       "      <td>8.572000</td>\n",
       "      <td>202505.000000</td>\n",
       "      <td>2012.000000</td>\n",
       "      <td>9.000000</td>\n",
       "      <td>38.000000</td>\n",
       "      <td>23.000000</td>\n",
       "    </tr>\n",
       "    <tr>\n",
       "      <th>max</th>\n",
       "      <td>45.000000</td>\n",
       "      <td>99.000000</td>\n",
       "      <td>693099.360000</td>\n",
       "      <td>100.140000</td>\n",
       "      <td>4.468000</td>\n",
       "      <td>88646.760000</td>\n",
       "      <td>104519.540000</td>\n",
       "      <td>141630.610000</td>\n",
       "      <td>67474.850000</td>\n",
       "      <td>108519.280000</td>\n",
       "      <td>227.232807</td>\n",
       "      <td>14.313000</td>\n",
       "      <td>219622.000000</td>\n",
       "      <td>2012.000000</td>\n",
       "      <td>12.000000</td>\n",
       "      <td>52.000000</td>\n",
       "      <td>31.000000</td>\n",
       "    </tr>\n",
       "  </tbody>\n",
       "</table>\n",
       "</div>"
      ],
      "text/plain": [
       "               Store           Dept   Weekly_Sales    Temperature  \\\n",
       "count  421570.000000  421570.000000  421570.000000  421570.000000   \n",
       "mean       22.200546      44.260317   15981.258123      60.090059   \n",
       "std        12.785297      30.492054   22711.183519      18.447931   \n",
       "min         1.000000       1.000000   -4988.940000      -2.060000   \n",
       "25%        11.000000      18.000000    2079.650000      46.680000   \n",
       "50%        22.000000      37.000000    7612.030000      62.090000   \n",
       "75%        33.000000      74.000000   20205.852500      74.280000   \n",
       "max        45.000000      99.000000  693099.360000     100.140000   \n",
       "\n",
       "          Fuel_Price      MarkDown1      MarkDown2      MarkDown3  \\\n",
       "count  421570.000000  150681.000000  111248.000000  137091.000000   \n",
       "mean        3.361027    7246.420196    3334.628621    1439.421384   \n",
       "std         0.458515    8291.221345    9475.357325    9623.078290   \n",
       "min         2.472000       0.270000    -265.760000     -29.100000   \n",
       "25%         2.933000    2240.270000      41.600000       5.080000   \n",
       "50%         3.452000    5347.450000     192.000000      24.600000   \n",
       "75%         3.738000    9210.900000    1926.940000     103.990000   \n",
       "max         4.468000   88646.760000  104519.540000  141630.610000   \n",
       "\n",
       "           MarkDown4      MarkDown5            CPI   Unemployment  \\\n",
       "count  134967.000000  151432.000000  421570.000000  421570.000000   \n",
       "mean     3383.168256    4628.975079     171.201947       7.960289   \n",
       "std      6292.384031    5962.887455      39.159276       1.863296   \n",
       "min         0.220000     135.160000     126.064000       3.879000   \n",
       "25%       504.220000    1878.440000     132.022667       6.891000   \n",
       "50%      1481.310000    3359.450000     182.318780       7.866000   \n",
       "75%      3595.040000    5563.800000     212.416993       8.572000   \n",
       "max     67474.850000  108519.280000     227.232807      14.313000   \n",
       "\n",
       "                Size           Year          Month           Week  \\\n",
       "count  421570.000000  421570.000000  421570.000000  421570.000000   \n",
       "mean   136727.915739    2010.968591       6.449510      25.826762   \n",
       "std     60980.583328       0.796876       3.243217      14.151887   \n",
       "min     34875.000000    2010.000000       1.000000       1.000000   \n",
       "25%     93638.000000    2010.000000       4.000000      14.000000   \n",
       "50%    140167.000000    2011.000000       6.000000      26.000000   \n",
       "75%    202505.000000    2012.000000       9.000000      38.000000   \n",
       "max    219622.000000    2012.000000      12.000000      52.000000   \n",
       "\n",
       "                 Day  \n",
       "count  421570.000000  \n",
       "mean       15.673131  \n",
       "std         8.753549  \n",
       "min         1.000000  \n",
       "25%         8.000000  \n",
       "50%        16.000000  \n",
       "75%        23.000000  \n",
       "max        31.000000  "
      ]
     },
     "execution_count": 11,
     "metadata": {},
     "output_type": "execute_result"
    }
   ],
   "source": [
    "merged_walmart.describe()"
   ]
  },
  {
   "cell_type": "code",
   "execution_count": 12,
   "metadata": {},
   "outputs": [],
   "source": [
    "merged_walmart = merged_walmart.drop(['Date'], axis = 1)"
   ]
  },
  {
   "cell_type": "markdown",
   "metadata": {},
   "source": [
    "#### Creating a copy of the dataframe before data preprocessing"
   ]
  },
  {
   "cell_type": "code",
   "execution_count": 13,
   "metadata": {},
   "outputs": [],
   "source": [
    "merged_walmart_copy = merged_walmart.copy()"
   ]
  },
  {
   "cell_type": "code",
   "execution_count": 14,
   "metadata": {},
   "outputs": [],
   "source": [
    "##Label encoding\n",
    "from sklearn.preprocessing import LabelEncoder\n",
    "le = LabelEncoder()\n",
    "merged_walmart_copy['IsHoliday']=le.fit_transform(merged_walmart_copy['IsHoliday'])\n",
    "merged_walmart_copy['Type']=le.fit_transform(merged_walmart_copy['Type'])"
   ]
  },
  {
   "cell_type": "code",
   "execution_count": 15,
   "metadata": {},
   "outputs": [],
   "source": [
    "#Simple Imputor Function\n",
    "from sklearn.impute import SimpleImputer\n",
    "si = SimpleImputer()\n",
    "merged_walmart_copy=pd.concat([merged_walmart_copy.drop(['MarkDown1','MarkDown2','MarkDown3','MarkDown4','MarkDown5'],axis=1),pd.DataFrame(si.fit_transform(merged_walmart_copy[['MarkDown1','MarkDown2','MarkDown3','MarkDown4','MarkDown5']]), columns=['MarkDown1','MarkDown2','MarkDown3','MarkDown4','MarkDown5'])],axis=1)"
   ]
  },
  {
   "cell_type": "markdown",
   "metadata": {},
   "source": [
    "#### Final Dataset"
   ]
  },
  {
   "cell_type": "code",
   "execution_count": 16,
   "metadata": {},
   "outputs": [
    {
     "data": {
      "text/html": [
       "<div>\n",
       "<style scoped>\n",
       "    .dataframe tbody tr th:only-of-type {\n",
       "        vertical-align: middle;\n",
       "    }\n",
       "\n",
       "    .dataframe tbody tr th {\n",
       "        vertical-align: top;\n",
       "    }\n",
       "\n",
       "    .dataframe thead th {\n",
       "        text-align: right;\n",
       "    }\n",
       "</style>\n",
       "<table border=\"1\" class=\"dataframe\">\n",
       "  <thead>\n",
       "    <tr style=\"text-align: right;\">\n",
       "      <th></th>\n",
       "      <th>Store</th>\n",
       "      <th>Dept</th>\n",
       "      <th>Weekly_Sales</th>\n",
       "      <th>Temperature</th>\n",
       "      <th>Fuel_Price</th>\n",
       "      <th>CPI</th>\n",
       "      <th>Unemployment</th>\n",
       "      <th>IsHoliday</th>\n",
       "      <th>Type</th>\n",
       "      <th>Size</th>\n",
       "      <th>Year</th>\n",
       "      <th>Month</th>\n",
       "      <th>Week</th>\n",
       "      <th>Day</th>\n",
       "      <th>MarkDown1</th>\n",
       "      <th>MarkDown2</th>\n",
       "      <th>MarkDown3</th>\n",
       "      <th>MarkDown4</th>\n",
       "      <th>MarkDown5</th>\n",
       "    </tr>\n",
       "  </thead>\n",
       "  <tbody>\n",
       "    <tr>\n",
       "      <th>0</th>\n",
       "      <td>1</td>\n",
       "      <td>1</td>\n",
       "      <td>24924.50</td>\n",
       "      <td>42.31</td>\n",
       "      <td>2.572</td>\n",
       "      <td>211.096358</td>\n",
       "      <td>8.106</td>\n",
       "      <td>0</td>\n",
       "      <td>0</td>\n",
       "      <td>151315</td>\n",
       "      <td>2010</td>\n",
       "      <td>2</td>\n",
       "      <td>5</td>\n",
       "      <td>5</td>\n",
       "      <td>7246.420196</td>\n",
       "      <td>3334.628621</td>\n",
       "      <td>1439.421384</td>\n",
       "      <td>3383.168256</td>\n",
       "      <td>4628.975079</td>\n",
       "    </tr>\n",
       "    <tr>\n",
       "      <th>1</th>\n",
       "      <td>1</td>\n",
       "      <td>1</td>\n",
       "      <td>46039.49</td>\n",
       "      <td>38.51</td>\n",
       "      <td>2.548</td>\n",
       "      <td>211.242170</td>\n",
       "      <td>8.106</td>\n",
       "      <td>1</td>\n",
       "      <td>0</td>\n",
       "      <td>151315</td>\n",
       "      <td>2010</td>\n",
       "      <td>2</td>\n",
       "      <td>6</td>\n",
       "      <td>12</td>\n",
       "      <td>7246.420196</td>\n",
       "      <td>3334.628621</td>\n",
       "      <td>1439.421384</td>\n",
       "      <td>3383.168256</td>\n",
       "      <td>4628.975079</td>\n",
       "    </tr>\n",
       "    <tr>\n",
       "      <th>2</th>\n",
       "      <td>1</td>\n",
       "      <td>1</td>\n",
       "      <td>41595.55</td>\n",
       "      <td>39.93</td>\n",
       "      <td>2.514</td>\n",
       "      <td>211.289143</td>\n",
       "      <td>8.106</td>\n",
       "      <td>0</td>\n",
       "      <td>0</td>\n",
       "      <td>151315</td>\n",
       "      <td>2010</td>\n",
       "      <td>2</td>\n",
       "      <td>7</td>\n",
       "      <td>19</td>\n",
       "      <td>7246.420196</td>\n",
       "      <td>3334.628621</td>\n",
       "      <td>1439.421384</td>\n",
       "      <td>3383.168256</td>\n",
       "      <td>4628.975079</td>\n",
       "    </tr>\n",
       "    <tr>\n",
       "      <th>3</th>\n",
       "      <td>1</td>\n",
       "      <td>1</td>\n",
       "      <td>19403.54</td>\n",
       "      <td>46.63</td>\n",
       "      <td>2.561</td>\n",
       "      <td>211.319643</td>\n",
       "      <td>8.106</td>\n",
       "      <td>0</td>\n",
       "      <td>0</td>\n",
       "      <td>151315</td>\n",
       "      <td>2010</td>\n",
       "      <td>2</td>\n",
       "      <td>8</td>\n",
       "      <td>26</td>\n",
       "      <td>7246.420196</td>\n",
       "      <td>3334.628621</td>\n",
       "      <td>1439.421384</td>\n",
       "      <td>3383.168256</td>\n",
       "      <td>4628.975079</td>\n",
       "    </tr>\n",
       "    <tr>\n",
       "      <th>4</th>\n",
       "      <td>1</td>\n",
       "      <td>1</td>\n",
       "      <td>21827.90</td>\n",
       "      <td>46.50</td>\n",
       "      <td>2.625</td>\n",
       "      <td>211.350143</td>\n",
       "      <td>8.106</td>\n",
       "      <td>0</td>\n",
       "      <td>0</td>\n",
       "      <td>151315</td>\n",
       "      <td>2010</td>\n",
       "      <td>3</td>\n",
       "      <td>9</td>\n",
       "      <td>5</td>\n",
       "      <td>7246.420196</td>\n",
       "      <td>3334.628621</td>\n",
       "      <td>1439.421384</td>\n",
       "      <td>3383.168256</td>\n",
       "      <td>4628.975079</td>\n",
       "    </tr>\n",
       "  </tbody>\n",
       "</table>\n",
       "</div>"
      ],
      "text/plain": [
       "   Store  Dept  Weekly_Sales  Temperature  Fuel_Price         CPI  \\\n",
       "0      1     1      24924.50        42.31       2.572  211.096358   \n",
       "1      1     1      46039.49        38.51       2.548  211.242170   \n",
       "2      1     1      41595.55        39.93       2.514  211.289143   \n",
       "3      1     1      19403.54        46.63       2.561  211.319643   \n",
       "4      1     1      21827.90        46.50       2.625  211.350143   \n",
       "\n",
       "   Unemployment  IsHoliday  Type    Size  Year  Month  Week  Day    MarkDown1  \\\n",
       "0         8.106          0     0  151315  2010      2     5    5  7246.420196   \n",
       "1         8.106          1     0  151315  2010      2     6   12  7246.420196   \n",
       "2         8.106          0     0  151315  2010      2     7   19  7246.420196   \n",
       "3         8.106          0     0  151315  2010      2     8   26  7246.420196   \n",
       "4         8.106          0     0  151315  2010      3     9    5  7246.420196   \n",
       "\n",
       "     MarkDown2    MarkDown3    MarkDown4    MarkDown5  \n",
       "0  3334.628621  1439.421384  3383.168256  4628.975079  \n",
       "1  3334.628621  1439.421384  3383.168256  4628.975079  \n",
       "2  3334.628621  1439.421384  3383.168256  4628.975079  \n",
       "3  3334.628621  1439.421384  3383.168256  4628.975079  \n",
       "4  3334.628621  1439.421384  3383.168256  4628.975079  "
      ]
     },
     "execution_count": 16,
     "metadata": {},
     "output_type": "execute_result"
    }
   ],
   "source": [
    "merged_walmart_copy.head()"
   ]
  },
  {
   "cell_type": "markdown",
   "metadata": {},
   "source": [
    "#### Sample Time Series data for Store id =1 and Department id=1"
   ]
  },
  {
   "cell_type": "code",
   "execution_count": 17,
   "metadata": {},
   "outputs": [
    {
     "data": {
      "text/html": [
       "<div>\n",
       "<style scoped>\n",
       "    .dataframe tbody tr th:only-of-type {\n",
       "        vertical-align: middle;\n",
       "    }\n",
       "\n",
       "    .dataframe tbody tr th {\n",
       "        vertical-align: top;\n",
       "    }\n",
       "\n",
       "    .dataframe thead th {\n",
       "        text-align: right;\n",
       "    }\n",
       "</style>\n",
       "<table border=\"1\" class=\"dataframe\">\n",
       "  <thead>\n",
       "    <tr style=\"text-align: right;\">\n",
       "      <th></th>\n",
       "      <th>Store</th>\n",
       "      <th>Dept</th>\n",
       "      <th>Weekly_Sales</th>\n",
       "      <th>Temperature</th>\n",
       "      <th>Fuel_Price</th>\n",
       "      <th>CPI</th>\n",
       "      <th>Unemployment</th>\n",
       "      <th>IsHoliday</th>\n",
       "      <th>Type</th>\n",
       "      <th>Size</th>\n",
       "      <th>Year</th>\n",
       "      <th>Month</th>\n",
       "      <th>Week</th>\n",
       "      <th>Day</th>\n",
       "      <th>MarkDown1</th>\n",
       "      <th>MarkDown2</th>\n",
       "      <th>MarkDown3</th>\n",
       "      <th>MarkDown4</th>\n",
       "      <th>MarkDown5</th>\n",
       "    </tr>\n",
       "  </thead>\n",
       "  <tbody>\n",
       "    <tr>\n",
       "      <th>0</th>\n",
       "      <td>1</td>\n",
       "      <td>1</td>\n",
       "      <td>24924.50</td>\n",
       "      <td>42.31</td>\n",
       "      <td>2.572</td>\n",
       "      <td>211.096358</td>\n",
       "      <td>8.106</td>\n",
       "      <td>0</td>\n",
       "      <td>0</td>\n",
       "      <td>151315</td>\n",
       "      <td>2010</td>\n",
       "      <td>2</td>\n",
       "      <td>5</td>\n",
       "      <td>5</td>\n",
       "      <td>7246.420196</td>\n",
       "      <td>3334.628621</td>\n",
       "      <td>1439.421384</td>\n",
       "      <td>3383.168256</td>\n",
       "      <td>4628.975079</td>\n",
       "    </tr>\n",
       "    <tr>\n",
       "      <th>1</th>\n",
       "      <td>1</td>\n",
       "      <td>1</td>\n",
       "      <td>46039.49</td>\n",
       "      <td>38.51</td>\n",
       "      <td>2.548</td>\n",
       "      <td>211.242170</td>\n",
       "      <td>8.106</td>\n",
       "      <td>1</td>\n",
       "      <td>0</td>\n",
       "      <td>151315</td>\n",
       "      <td>2010</td>\n",
       "      <td>2</td>\n",
       "      <td>6</td>\n",
       "      <td>12</td>\n",
       "      <td>7246.420196</td>\n",
       "      <td>3334.628621</td>\n",
       "      <td>1439.421384</td>\n",
       "      <td>3383.168256</td>\n",
       "      <td>4628.975079</td>\n",
       "    </tr>\n",
       "    <tr>\n",
       "      <th>2</th>\n",
       "      <td>1</td>\n",
       "      <td>1</td>\n",
       "      <td>41595.55</td>\n",
       "      <td>39.93</td>\n",
       "      <td>2.514</td>\n",
       "      <td>211.289143</td>\n",
       "      <td>8.106</td>\n",
       "      <td>0</td>\n",
       "      <td>0</td>\n",
       "      <td>151315</td>\n",
       "      <td>2010</td>\n",
       "      <td>2</td>\n",
       "      <td>7</td>\n",
       "      <td>19</td>\n",
       "      <td>7246.420196</td>\n",
       "      <td>3334.628621</td>\n",
       "      <td>1439.421384</td>\n",
       "      <td>3383.168256</td>\n",
       "      <td>4628.975079</td>\n",
       "    </tr>\n",
       "    <tr>\n",
       "      <th>3</th>\n",
       "      <td>1</td>\n",
       "      <td>1</td>\n",
       "      <td>19403.54</td>\n",
       "      <td>46.63</td>\n",
       "      <td>2.561</td>\n",
       "      <td>211.319643</td>\n",
       "      <td>8.106</td>\n",
       "      <td>0</td>\n",
       "      <td>0</td>\n",
       "      <td>151315</td>\n",
       "      <td>2010</td>\n",
       "      <td>2</td>\n",
       "      <td>8</td>\n",
       "      <td>26</td>\n",
       "      <td>7246.420196</td>\n",
       "      <td>3334.628621</td>\n",
       "      <td>1439.421384</td>\n",
       "      <td>3383.168256</td>\n",
       "      <td>4628.975079</td>\n",
       "    </tr>\n",
       "    <tr>\n",
       "      <th>4</th>\n",
       "      <td>1</td>\n",
       "      <td>1</td>\n",
       "      <td>21827.90</td>\n",
       "      <td>46.50</td>\n",
       "      <td>2.625</td>\n",
       "      <td>211.350143</td>\n",
       "      <td>8.106</td>\n",
       "      <td>0</td>\n",
       "      <td>0</td>\n",
       "      <td>151315</td>\n",
       "      <td>2010</td>\n",
       "      <td>3</td>\n",
       "      <td>9</td>\n",
       "      <td>5</td>\n",
       "      <td>7246.420196</td>\n",
       "      <td>3334.628621</td>\n",
       "      <td>1439.421384</td>\n",
       "      <td>3383.168256</td>\n",
       "      <td>4628.975079</td>\n",
       "    </tr>\n",
       "    <tr>\n",
       "      <th>...</th>\n",
       "      <td>...</td>\n",
       "      <td>...</td>\n",
       "      <td>...</td>\n",
       "      <td>...</td>\n",
       "      <td>...</td>\n",
       "      <td>...</td>\n",
       "      <td>...</td>\n",
       "      <td>...</td>\n",
       "      <td>...</td>\n",
       "      <td>...</td>\n",
       "      <td>...</td>\n",
       "      <td>...</td>\n",
       "      <td>...</td>\n",
       "      <td>...</td>\n",
       "      <td>...</td>\n",
       "      <td>...</td>\n",
       "      <td>...</td>\n",
       "      <td>...</td>\n",
       "      <td>...</td>\n",
       "    </tr>\n",
       "    <tr>\n",
       "      <th>138</th>\n",
       "      <td>1</td>\n",
       "      <td>1</td>\n",
       "      <td>18947.81</td>\n",
       "      <td>76.08</td>\n",
       "      <td>3.666</td>\n",
       "      <td>222.981658</td>\n",
       "      <td>6.908</td>\n",
       "      <td>0</td>\n",
       "      <td>0</td>\n",
       "      <td>151315</td>\n",
       "      <td>2012</td>\n",
       "      <td>9</td>\n",
       "      <td>39</td>\n",
       "      <td>28</td>\n",
       "      <td>3666.270000</td>\n",
       "      <td>7.640000</td>\n",
       "      <td>1.650000</td>\n",
       "      <td>1417.960000</td>\n",
       "      <td>4744.280000</td>\n",
       "    </tr>\n",
       "    <tr>\n",
       "      <th>139</th>\n",
       "      <td>1</td>\n",
       "      <td>1</td>\n",
       "      <td>21904.47</td>\n",
       "      <td>68.55</td>\n",
       "      <td>3.617</td>\n",
       "      <td>223.181477</td>\n",
       "      <td>6.573</td>\n",
       "      <td>0</td>\n",
       "      <td>0</td>\n",
       "      <td>151315</td>\n",
       "      <td>2012</td>\n",
       "      <td>10</td>\n",
       "      <td>40</td>\n",
       "      <td>5</td>\n",
       "      <td>8077.890000</td>\n",
       "      <td>3334.628621</td>\n",
       "      <td>18.220000</td>\n",
       "      <td>3617.430000</td>\n",
       "      <td>3626.140000</td>\n",
       "    </tr>\n",
       "    <tr>\n",
       "      <th>140</th>\n",
       "      <td>1</td>\n",
       "      <td>1</td>\n",
       "      <td>22764.01</td>\n",
       "      <td>62.99</td>\n",
       "      <td>3.601</td>\n",
       "      <td>223.381296</td>\n",
       "      <td>6.573</td>\n",
       "      <td>0</td>\n",
       "      <td>0</td>\n",
       "      <td>151315</td>\n",
       "      <td>2012</td>\n",
       "      <td>10</td>\n",
       "      <td>41</td>\n",
       "      <td>12</td>\n",
       "      <td>2086.180000</td>\n",
       "      <td>3334.628621</td>\n",
       "      <td>8.110000</td>\n",
       "      <td>602.360000</td>\n",
       "      <td>5926.450000</td>\n",
       "    </tr>\n",
       "    <tr>\n",
       "      <th>141</th>\n",
       "      <td>1</td>\n",
       "      <td>1</td>\n",
       "      <td>24185.27</td>\n",
       "      <td>67.97</td>\n",
       "      <td>3.594</td>\n",
       "      <td>223.425723</td>\n",
       "      <td>6.573</td>\n",
       "      <td>0</td>\n",
       "      <td>0</td>\n",
       "      <td>151315</td>\n",
       "      <td>2012</td>\n",
       "      <td>10</td>\n",
       "      <td>42</td>\n",
       "      <td>19</td>\n",
       "      <td>950.330000</td>\n",
       "      <td>3334.628621</td>\n",
       "      <td>4.930000</td>\n",
       "      <td>80.250000</td>\n",
       "      <td>2312.850000</td>\n",
       "    </tr>\n",
       "    <tr>\n",
       "      <th>142</th>\n",
       "      <td>1</td>\n",
       "      <td>1</td>\n",
       "      <td>27390.81</td>\n",
       "      <td>69.16</td>\n",
       "      <td>3.506</td>\n",
       "      <td>223.444251</td>\n",
       "      <td>6.573</td>\n",
       "      <td>0</td>\n",
       "      <td>0</td>\n",
       "      <td>151315</td>\n",
       "      <td>2012</td>\n",
       "      <td>10</td>\n",
       "      <td>43</td>\n",
       "      <td>26</td>\n",
       "      <td>2585.850000</td>\n",
       "      <td>31.750000</td>\n",
       "      <td>6.000000</td>\n",
       "      <td>1057.160000</td>\n",
       "      <td>1305.010000</td>\n",
       "    </tr>\n",
       "  </tbody>\n",
       "</table>\n",
       "<p>143 rows × 19 columns</p>\n",
       "</div>"
      ],
      "text/plain": [
       "     Store  Dept  Weekly_Sales  Temperature  Fuel_Price         CPI  \\\n",
       "0        1     1      24924.50        42.31       2.572  211.096358   \n",
       "1        1     1      46039.49        38.51       2.548  211.242170   \n",
       "2        1     1      41595.55        39.93       2.514  211.289143   \n",
       "3        1     1      19403.54        46.63       2.561  211.319643   \n",
       "4        1     1      21827.90        46.50       2.625  211.350143   \n",
       "..     ...   ...           ...          ...         ...         ...   \n",
       "138      1     1      18947.81        76.08       3.666  222.981658   \n",
       "139      1     1      21904.47        68.55       3.617  223.181477   \n",
       "140      1     1      22764.01        62.99       3.601  223.381296   \n",
       "141      1     1      24185.27        67.97       3.594  223.425723   \n",
       "142      1     1      27390.81        69.16       3.506  223.444251   \n",
       "\n",
       "     Unemployment  IsHoliday  Type    Size  Year  Month  Week  Day  \\\n",
       "0           8.106          0     0  151315  2010      2     5    5   \n",
       "1           8.106          1     0  151315  2010      2     6   12   \n",
       "2           8.106          0     0  151315  2010      2     7   19   \n",
       "3           8.106          0     0  151315  2010      2     8   26   \n",
       "4           8.106          0     0  151315  2010      3     9    5   \n",
       "..            ...        ...   ...     ...   ...    ...   ...  ...   \n",
       "138         6.908          0     0  151315  2012      9    39   28   \n",
       "139         6.573          0     0  151315  2012     10    40    5   \n",
       "140         6.573          0     0  151315  2012     10    41   12   \n",
       "141         6.573          0     0  151315  2012     10    42   19   \n",
       "142         6.573          0     0  151315  2012     10    43   26   \n",
       "\n",
       "       MarkDown1    MarkDown2    MarkDown3    MarkDown4    MarkDown5  \n",
       "0    7246.420196  3334.628621  1439.421384  3383.168256  4628.975079  \n",
       "1    7246.420196  3334.628621  1439.421384  3383.168256  4628.975079  \n",
       "2    7246.420196  3334.628621  1439.421384  3383.168256  4628.975079  \n",
       "3    7246.420196  3334.628621  1439.421384  3383.168256  4628.975079  \n",
       "4    7246.420196  3334.628621  1439.421384  3383.168256  4628.975079  \n",
       "..           ...          ...          ...          ...          ...  \n",
       "138  3666.270000     7.640000     1.650000  1417.960000  4744.280000  \n",
       "139  8077.890000  3334.628621    18.220000  3617.430000  3626.140000  \n",
       "140  2086.180000  3334.628621     8.110000   602.360000  5926.450000  \n",
       "141   950.330000  3334.628621     4.930000    80.250000  2312.850000  \n",
       "142  2585.850000    31.750000     6.000000  1057.160000  1305.010000  \n",
       "\n",
       "[143 rows x 19 columns]"
      ]
     },
     "execution_count": 17,
     "metadata": {},
     "output_type": "execute_result"
    }
   ],
   "source": [
    "store1=merged_walmart_copy[merged_walmart_copy['Store']==1]\n",
    "store1Dept1=store1[store1['Dept']==1]\n",
    "store1Dept1"
   ]
  },
  {
   "cell_type": "markdown",
   "metadata": {},
   "source": [
    "#### Correlation "
   ]
  },
  {
   "cell_type": "markdown",
   "metadata": {},
   "source": [
    "Following correlation matrix is for Store=1 and Dept=1, in this \n",
    "- Unemployemnt and CPI are very highly negatively correlated which means as Unemployment increases, CPI decreases\n",
    "- Year and Unemployment are highly negatively correlated, according to census more people are educated as each year passes\n",
    "- CPI and Fuel Price are positively correlated because fuel is the main source for automobile transportation, so if the fuel price increases, the end products costs also increase\n",
    "- Day and Markdown1 are highly correleated,meaning some promotional offers are related to specific days of the month.\n",
    "\n"
   ]
  },
  {
   "cell_type": "code",
   "execution_count": 18,
   "metadata": {},
   "outputs": [
    {
     "data": {
      "text/plain": [
       "<matplotlib.colorbar.Colorbar at 0x1a1cd14050>"
      ]
     },
     "execution_count": 18,
     "metadata": {},
     "output_type": "execute_result"
    },
    {
     "data": {
      "image/png": "[encoded data removed]",
      "text/plain": [
       "<Figure size 1800x1008 with 2 Axes>"
      ]
     },
     "metadata": {
      "needs_background": "light"
     },
     "output_type": "display_data"
    }
   ],
   "source": [
    "fig = plt.figure(figsize=(25, 14))\n",
    "corr = store1Dept1.corr()\n",
    "##Store,Dept,type,Size are removed as they have all same values, adding them doesn't make sense in correlation\n",
    "corr1 = corr.drop(['Store','Dept','Type','Size'],axis = 1)\n",
    "corr2 = corr1.drop(['Store','Dept','Type','Size'],axis = 0)\n",
    "c = plt.pcolor(corr2)\n",
    "plt.yticks(np.arange(0.6, len(corr2.index), 1), corr2.index)\n",
    "plt.xticks(np.arange(0.6, len(corr2.columns), 1), corr2.columns)\n",
    "fig.colorbar(c)"
   ]
  },
  {
   "cell_type": "markdown",
   "metadata": {},
   "source": [
    "#### Boxplot for sizes of types of stores\n",
    "\n",
    "Below boxplot shows that Store Type A is the largest and store type C is the smallest in terms of Size. So it might be interesting to observe the weekly sales comparsion between these stores given that A is the largest store."
   ]
  },
  {
   "cell_type": "code",
   "execution_count": 19,
   "metadata": {
    "scrolled": false
   },
   "outputs": [
    {
     "data": {
      "image/png": "[encoded data removed]",
      "text/plain": [
       "<Figure size 360x360 with 1 Axes>"
      ]
     },
     "metadata": {
      "needs_background": "light"
     },
     "output_type": "display_data"
    }
   ],
   "source": [
    "type_store = pd.concat([new_stores['Type'], new_stores['Size']], axis=1)\n",
    "f, ax = plt.subplots(figsize=(5, 5))\n",
    "fig = sns.boxplot(x='Type', y='Size', data=type_store)"
   ]
  },
  {
   "cell_type": "markdown",
   "metadata": {},
   "source": [
    "From the below box plot, Type A makes more sales when compared to B and C. The larger store makes more sales."
   ]
  },
  {
   "cell_type": "code",
   "execution_count": 20,
   "metadata": {},
   "outputs": [
    {
     "data": {
      "image/png": "[encoded data removed]",
      "text/plain": [
       "<Figure size 360x360 with 1 Axes>"
      ]
     },
     "metadata": {
      "needs_background": "light"
     },
     "output_type": "display_data"
    }
   ],
   "source": [
    "type_sales = pd.concat([merged_walmart_copy['Type'], merged_walmart_copy['Weekly_Sales']], axis=1)\n",
    "f, ax = plt.subplots(figsize=(5, 5))\n",
    "fig = sns.boxplot(x='Type', y='Weekly_Sales', data=type_sales,showfliers=False )"
   ]
  },
  {
   "cell_type": "markdown",
   "metadata": {},
   "source": [
    "Weekly Sales is more when the temperature is 30-80 and its relatively low when the temperature is too low as well as when it is too high"
   ]
  },
  {
   "cell_type": "code",
   "execution_count": 21,
   "metadata": {},
   "outputs": [
    {
     "data": {
      "image/png": "[encoded data removed]",
      "text/plain": [
       "<Figure size 432x288 with 1 Axes>"
      ]
     },
     "metadata": {
      "needs_background": "light"
     },
     "output_type": "display_data"
    }
   ],
   "source": [
    "fig = merged_walmart_copy.plot.scatter(\"Temperature\", \"Weekly_Sales\")"
   ]
  },
  {
   "cell_type": "markdown",
   "metadata": {},
   "source": [
    "December and November makes more weekly sales when compared to other months due to major holiday seasons like Thanksgiving and Christmas"
   ]
  },
  {
   "cell_type": "code",
   "execution_count": 22,
   "metadata": {},
   "outputs": [
    {
     "data": {
      "image/png": "[encoded data removed]",
      "text/plain": [
       "<Figure size 360x360 with 1 Axes>"
      ]
     },
     "metadata": {
      "needs_background": "light"
     },
     "output_type": "display_data"
    }
   ],
   "source": [
    "month_sales = pd.concat([merged_walmart_copy['Month'], merged_walmart_copy['Weekly_Sales']], axis=1)\n",
    "graph = sns.catplot(x='Month', y=\"Weekly_Sales\", data=month_sales)"
   ]
  },
  {
   "cell_type": "markdown",
   "metadata": {},
   "source": [
    "#### Stores with highest Unemployment \n",
    "The umemployment rate is higher in areas of stores 31, 30, 25, 21, 20 and 2. A reason for higher unemployment in these areas could be beacuse of the jobs people lost around The Great Recession of 2008."
   ]
  },
  {
   "cell_type": "code",
   "execution_count": 23,
   "metadata": {},
   "outputs": [
    {
     "data": {
      "text/plain": [
       "Text(0.5, 0, 'Store')"
      ]
     },
     "execution_count": 23,
     "metadata": {},
     "output_type": "execute_result"
    },
    {
     "data": {
      "image/png": "[encoded data removed]",
      "text/plain": [
       "<Figure size 360x360 with 1 Axes>"
      ]
     },
     "metadata": {
      "needs_background": "light"
     },
     "output_type": "display_data"
    }
   ],
   "source": [
    "store_unemp=new_features.groupby(['Store']).mean()['Unemployment'].sort_values(ascending=False).tail(20).plot(kind='bar',figsize=(5,5))\n",
    "store_unemp.set_ylabel(\"Unemployment\")\n",
    "store_unemp.set_xlabel(\"Store\")"
   ]
  },
  {
   "cell_type": "markdown",
   "metadata": {},
   "source": [
    "#### CPI across all the Stores"
   ]
  },
  {
   "cell_type": "markdown",
   "metadata": {},
   "source": [
    "A high CPI across all stores is observed. This indicates inflation in prices of goods and services across various stores.\n",
    "\n",
    "Stores 22 and 35 have a comparatively low CPI, thus the price of goods in these stores might be less as compared to others. This might a reason to attract more consumers to these stores. Another reason could be that these stores are located in remote locations, therefore their sell might below. Also, the goods in these stores might be outdated resulting in lower prices of goods in these stores."
   ]
  },
  {
   "cell_type": "code",
   "execution_count": 24,
   "metadata": {
    "scrolled": true
   },
   "outputs": [
    {
     "data": {
      "text/plain": [
       "Text(0, 0.5, 'CPI')"
      ]
     },
     "execution_count": 24,
     "metadata": {},
     "output_type": "execute_result"
    },
    {
     "data": {
      "image/png": "[encoded data removed]",
      "text/plain": [
       "<Figure size 360x360 with 1 Axes>"
      ]
     },
     "metadata": {
      "needs_background": "light"
     },
     "output_type": "display_data"
    }
   ],
   "source": [
    "store_cpi=new_features.groupby(['Store']).mean()['CPI'].sort_values(ascending=False).head(25).plot(kind='bar',figsize=(5,5))\n",
    "store_cpi.set_xlabel(\"Store\")\n",
    "store_cpi.set_ylabel(\"CPI\")"
   ]
  },
  {
   "cell_type": "markdown",
   "metadata": {},
   "source": [
    "#### Portion of timeframe with holidays in the week\n",
    "A pie chart representing Holiday vs non Holiday timeframe has been plotted for all the weeks present in the dataset. This trend would be same across all the 45 stores"
   ]
  },
  {
   "cell_type": "code",
   "execution_count": 25,
   "metadata": {
    "scrolled": false
   },
   "outputs": [
    {
     "data": {
      "text/plain": [
       "<matplotlib.axes._subplots.AxesSubplot at 0x1a24b1b6d0>"
      ]
     },
     "execution_count": 25,
     "metadata": {},
     "output_type": "execute_result"
    },
    {
     "data": {
      "image/png": "[encoded data removed]",
      "text/plain": [
       "<Figure size 432x288 with 1 Axes>"
      ]
     },
     "metadata": {},
     "output_type": "display_data"
    }
   ],
   "source": [
    "new_features[new_features['Store']==1]['IsHoliday'].value_counts().plot(kind='pie')"
   ]
  },
  {
   "cell_type": "markdown",
   "metadata": {},
   "source": [
    "#### Department wise weekly sales\n",
    "\n",
    "All the 45 stores have around 99 departments, so below bar graph shows the weekly sales in every department. Department 92 and 95 have very high weekly sales and it would be interesting to note the similar trend for other stores too."
   ]
  },
  {
   "cell_type": "code",
   "execution_count": 26,
   "metadata": {},
   "outputs": [
    {
     "data": {
      "text/plain": [
       "Text(0, 0.5, 'Weekly_Sales')"
      ]
     },
     "execution_count": 26,
     "metadata": {},
     "output_type": "execute_result"
    },
    {
     "data": {
      "image/png": "[encoded data removed]",
      "text/plain": [
       "<Figure size 1080x360 with 1 Axes>"
      ]
     },
     "metadata": {
      "needs_background": "light"
     },
     "output_type": "display_data"
    }
   ],
   "source": [
    "dept_sales=merged_walmart_copy.groupby(['Dept']).sum()['Weekly_Sales'].plot(kind='bar',figsize=(15,5))\n",
    "dept_sales.set_xlabel(\"Dept\")\n",
    "dept_sales.set_ylabel(\"Weekly_Sales\")"
   ]
  }
 ],
 "metadata": {
  "kernelspec": {
   "display_name": "Python 3",
   "language": "python",
   "name": "python3"
  },
  "language_info": {
   "codemirror_mode": {
    "name": "ipython",
    "version": 3
   },
   "file_extension": ".py",
   "mimetype": "text/x-python",
   "name": "python",
   "nbconvert_exporter": "python",
   "pygments_lexer": "ipython3",
   "version": "3.7.7"
  }
 },
 "nbformat": 4,
 "nbformat_minor": 4
}
